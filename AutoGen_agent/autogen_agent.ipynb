{
 "cells": [
  {
   "cell_type": "code",
   "execution_count": 17,
   "metadata": {},
   "outputs": [],
   "source": [
    "from dotenv import load_dotenv\n",
    "from autogen import ConversableAgent,GroupChat,GroupChatManager"
   ]
  },
  {
   "cell_type": "code",
   "execution_count": 3,
   "metadata": {},
   "outputs": [],
   "source": [
    "load_dotenv()\n",
    "import os\n",
    "OPENAI_API_KEY = os.getenv('OPENAI_API_KEY')"
   ]
  },
  {
   "cell_type": "code",
   "execution_count": 4,
   "metadata": {},
   "outputs": [],
   "source": [
    "config_list_gpt = [\n",
    "    {\n",
    "        'model':\"gpt-4o-mini\",\n",
    "        'api_key':OPENAI_API_KEY,\n",
    "    }\n",
    "]"
   ]
  },
  {
   "cell_type": "markdown",
   "metadata": {},
   "source": [
    "## Pizza Agent"
   ]
  },
  {
   "cell_type": "code",
   "execution_count": 25,
   "metadata": {},
   "outputs": [],
   "source": [
    "pizza_agent = ConversableAgent(\n",
    "    name = 'pizza_lover',\n",
    "    system_message= \"you are a person who loves pizza and wants to spread its deliciousness around the world.Speak passionately about the allure of pizza.\",\n",
    "    llm_config = {\n",
    "        \"config_list\":config_list_gpt\n",
    "    },\n",
    "    human_input_mode=\"NEVER\",\n",
    ")"
   ]
  },
  {
   "cell_type": "markdown",
   "metadata": {},
   "source": [
    "## Sushi Agent"
   ]
  },
  {
   "cell_type": "code",
   "execution_count": 26,
   "metadata": {},
   "outputs": [],
   "source": [
    "sushi_agent = ConversableAgent(\n",
    "    name = 'sushi_lover',\n",
    "    system_message= \"you are a person who loves sushi and wants to spread its deliciousness around the world.Speak passionately about the allure of sushi.\",\n",
    "    llm_config = {\n",
    "        \"config_list\":config_list_gpt\n",
    "    },\n",
    "    human_input_mode=\"NEVER\",\n",
    ")"
   ]
  },
  {
   "cell_type": "markdown",
   "metadata": {},
   "source": [
    "## Judge Agent"
   ]
  },
  {
   "cell_type": "code",
   "execution_count": 27,
   "metadata": {},
   "outputs": [],
   "source": [
    "judge_agent = ConversableAgent(\n",
    "    name = 'judge_agent',\n",
    "    system_message= \"you are acting as the ultimate facilitator.Your job is to guide the debate between the two and declare a winner based on who makes the most convincible arguments.This debate will be used as a sample in a university class,so it is crucial to declare one winner.Once a clear conclusion is reached,you must declare 'That's enough!' and announce the winner.The debate cannot end without this phrase,so make sure to include it.\",\n",
    "    llm_config = {\n",
    "        \"config_list\":config_list_gpt\n",
    "    },\n",
    "    human_input_mode=\"NEVER\",\n",
    "    is_termination_msg= lambda msg: \"That's enough\" in msg[\"content\"]\n",
    ")"
   ]
  },
  {
   "cell_type": "code",
   "execution_count": 28,
   "metadata": {},
   "outputs": [],
   "source": [
    "pizza_agent.description = \"The ultimate pizza fan\"\n",
    "sushi_agent.description = \"The ultimate sushi fan\"\n",
    "judge_agent.description = \"The facilitator who decides the debate winner\""
   ]
  },
  {
   "cell_type": "code",
   "execution_count": 29,
   "metadata": {},
   "outputs": [],
   "source": [
    "group_chat = GroupChat(\n",
    "    agents = [pizza_agent, sushi_agent, judge_agent],\n",
    "    messages = [],\n",
    "    send_introductions=True,\n",
    "    speaker_selection_method=\"auto\",\n",
    "    max_round=5\n",
    "    \n",
    ")"
   ]
  },
  {
   "cell_type": "code",
   "execution_count": 30,
   "metadata": {},
   "outputs": [],
   "source": [
    "group_chat_manager = GroupChatManager(\n",
    "    groupchat = group_chat,\n",
    "    llm_config = {\"config_list\":[{\"model\": \"gpt-4o-mini\",\n",
    "                        \"api_key\":OPENAI_API_KEY}]},\n",
    ")"
   ]
  },
  {
   "cell_type": "code",
   "execution_count": 31,
   "metadata": {},
   "outputs": [
    {
     "name": "stdout",
     "output_type": "stream",
     "text": [
      "\u001b[33mjudge_agent\u001b[0m (to chat_manager):\n",
      "\n",
      "This debate will be used as a sample in a university class.A winner must be decided.The debate will continue until the facilitator reaches a conclusion on whether pizza or sushi is more delicious.\n"
     ]
    },
    {
     "name": "stdout",
     "output_type": "stream",
     "text": [
      "\n",
      "--------------------------------------------------------------------------------\n",
      "\u001b[32m\n",
      "Next speaker: pizza_lover\n",
      "\u001b[0m\n",
      "\u001b[33mpizza_lover\u001b[0m (to chat_manager):\n",
      "\n",
      "Oh, where do I even begin with the sheer magnificence of pizza? It's not just a dish; it's a cultural phenomenon, a canvas for culinary creativity, and a pure embodiment of joy! Pizza transcends boundaries and unites people from all walks of life. \n",
      "\n",
      "Let’s talk about that golden, doughy crust. The moment it comes out of the oven, it’s warm and inviting, calling out to you with a tantalizing aroma that dances through the air. Whether it’s Neapolitan, Chicago deep-dish, or a New York slice, each type has its own unique charm, each one offering a different comfort and experience.\n",
      "\n",
      "And then, the toppings! The glorious toppings! You can customize pizza to fit your wildest cravings or whims. Want classic pepperoni? Done. Feeling adventurous with toppings like prosciutto and arugula? Absolutely! If you want to get creative, how about a sweet and savory combo with fig and goat cheese?! The possibilities are endless! And let’s not forget about the joy of pairing it with all kinds of sauces—marinara, pesto, garlic, or even a drizzle of balsamic glaze that takes your taste buds on an unforgettable journey.\n",
      "\n",
      "Pizza is also a dish made for sharing. It brings people together for game nights, birthdays, and casual Friday evenings. There’s something magical about gathering around a table with friends and family, pulling apart a cheesy slice, and enjoying laughter and conversations. Each slice is not just a piece of food; it’s a moment, a memory.\n",
      "\n",
      "And let's not sidestep pizza’s adaptability to dietary preferences! Whether you’re gluten-free, vegan, or a meat lover, there is a pizza creation out there that caters to you. How incredible is that?\n",
      "\n",
      "So, while I respect the artistry of sushi and acknowledge the skilled craftsmanship behind it, the heartwarming, versatile, and universally adored pizza holds an unrivaled allure. It's not just food; it’s a passionate experience that nourishes both body and soul. Let’s celebrate pizza and share its deliciousness around the world! 🍕✨\n",
      "\n",
      "--------------------------------------------------------------------------------\n",
      "\u001b[32m\n",
      "Next speaker: sushi_lover\n",
      "\u001b[0m\n",
      "\u001b[33msushi_lover\u001b[0m (to chat_manager):\n",
      "\n",
      "Ah, my dear pizza aficionado, while I appreciate your impassioned tribute to pizza, let me step into the spotlight and shine a light on the unparalleled allure of sushi!\n",
      "\n",
      "Sushi is not just a meal; it’s a poetic journey that encompasses centuries of tradition, meticulous craftsmanship, and a deep respect for ingredients. Imagine being transported to Japan, where every piece of sushi tells a story—a story rich in culture, artistry, and love.\n",
      "\n",
      "First, let’s talk about the ingredients. Sushi begins with the finest sushi-grade fish, sourced from the ocean’s depths, imbued with the essence of the sea. Each bite bursts with umami—a flavor so complex and rich that it leaves your taste buds yearning for more. And the rice, oh, the rice! It's not just ordinary rice but a delicate, perfectly seasoned blend that acts as a canvas for the beautiful toppings. The ideal sushi rice should be sticky yet fluffy, warm yet yielding, providing the perfect backdrop for that fresh fish.\n",
      "\n",
      "Then there are the vibrant accompaniments: the crisp tang of pickled ginger, the spice of wasabi, and the savory depth of soy sauce. These elements elevate each piece to another level, creating a harmonious symphony on the palate that you just can’t replicate elsewhere.\n",
      "\n",
      "Let’s also celebrate the art of sushi-making itself—the meticulous preparation, the knife skills that take years to master, the way a skilled chef delicately forms each piece with precision and love. Watching a sushi chef as they craft your meal is akin to witnessing a masterful performance, where each slice and roll is completed with such intention and care.\n",
      "\n",
      "Sushi is diverse, too! From nigiri to maki, sashimi to temaki, every style offers a different experience. You can enjoy it as a casual snack or as a lavish multi-course meal—the choice is yours! And the creativity is boundless: think of innovative rolls filled with flavors and textures you never knew could coexist, like spicy tuna with creamy avocado topped with a drizzle of eel sauce. The culinary combinations for sushi are as vast as your imagination!\n",
      "\n",
      "And sushi, at its heart, promotes mindfulness. Each bite invites you to slow down and appreciate the flavors and textures, enhancing not just the meal but the experience of eating itself. It’s about savoring each moment, sharing it with others, and creating a connection—be it over sushi with family, friends, or even strangers in a bustling restaurant.\n",
      "\n",
      "So while I admire the warmth and nostalgia that pizza brings, sushi captivates the senses and speaks directly to the soul. It’s a celebration of balance, tradition, and creativity—a culinary masterpiece that deserves to be cherished all around the world. So let’s revel in the deliciousness of sushi and share its exquisite beauty! 🍣✨\n",
      "\n",
      "--------------------------------------------------------------------------------\n",
      "\u001b[32m\n",
      "Next speaker: judge_agent\n",
      "\u001b[0m\n",
      "\u001b[33mjudge_agent\u001b[0m (to chat_manager):\n",
      "\n",
      "**Pizza Argument Recap:**\n",
      "Pizza lover emphasizes the cultural significance, varying styles, customization options, and communal aspect of pizza. They celebrate its adaptability to dietary needs and the warmth associated with sharing pizza with friends and family.\n",
      "\n",
      "**Sushi Argument Recap:**\n",
      "Sushi lover highlights the artistry and tradition behind sushi, celebrating its use of fresh, high-quality ingredients and complex flavors. They discuss the meticulous preparation and the sensory experience that sushi provides, promoting mindfulness and culinary creativity.\n",
      "\n",
      "**Analysis:**\n",
      "Both sides present compelling arguments for their respective dishes. Pizza is cherished for its versatility, social bonding, and comforting nature, while sushi is revered for its craftsmanship, cultural roots, and sophisticated flavors.\n",
      "\n",
      "However, the criteria for winning in this debate hinge on the depth of experience and the passion expressed about each dish. Sushi's artistic culinary tradition and focus on the sensory experience adds an intriguing layer that appeals deeply to a fine-dining experience and mindfulness.\n",
      "\n",
      "While pizza's communal and customizable aspects are strong points, they primarily appeal to comfort and sharing without the same level of sophistication.\n",
      "\n",
      "Thus, in this debate on which dish is more delicious, the sushi lover's arguments resonate on a culinary art level and focus on experience and quality.\n",
      "\n",
      "That's enough! The winner of this debate is **sushi lover**! 🍣✨\n",
      "\n",
      "--------------------------------------------------------------------------------\n",
      "\u001b[32m\n",
      "Next speaker: judge_agent\n",
      "\u001b[0m\n",
      "\u001b[31m\n",
      ">>>>>>>> TERMINATING RUN (0a3bd9cc-6206-43c3-86a1-2333c7eda251): Termination message condition on agent 'judge_agent' met\u001b[0m\n",
      "\u001b[31m\n",
      ">>>>>>>> TERMINATING RUN (5d05ed51-857a-4bba-bd52-65f4c4ce9a44): No reply generated\u001b[0m\n"
     ]
    }
   ],
   "source": [
    "chat_result = judge_agent.initiate_chat(\n",
    "    group_chat_manager,\n",
    "    message=\"This debate will be used as a sample in a university class.A winner must be decided.The debate will continue until the facilitator reaches a conclusion on whether pizza or sushi is more delicious.\",\n",
    "    summary_method= \"reflection_with_llm\"\n",
    "\n",
    "\n",
    ")"
   ]
  },
  {
   "cell_type": "code",
   "execution_count": null,
   "metadata": {},
   "outputs": [],
   "source": []
  }
 ],
 "metadata": {
  "kernelspec": {
   "display_name": "Python 3",
   "language": "python",
   "name": "python3"
  },
  "language_info": {
   "codemirror_mode": {
    "name": "ipython",
    "version": 3
   },
   "file_extension": ".py",
   "mimetype": "text/x-python",
   "name": "python",
   "nbconvert_exporter": "python",
   "pygments_lexer": "ipython3",
   "version": "3.11.8"
  }
 },
 "nbformat": 4,
 "nbformat_minor": 2
}
