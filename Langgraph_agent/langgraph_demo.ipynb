{
 "cells": [
  {
   "cell_type": "code",
   "execution_count": 1,
   "metadata": {},
   "outputs": [],
   "source": [
    "import os \n",
    "from dotenv import load_dotenv,find_dotenv"
   ]
  },
  {
   "cell_type": "code",
   "execution_count": 3,
   "metadata": {},
   "outputs": [],
   "source": [
    "_ = load_dotenv(find_dotenv())\n",
    "\n",
    "# Define API keys and other environment variables\n",
    "OPENAI_API_KEY = os.getenv('OPENAI_API_KEY')\n",
    "TAVILY_API_KEY = os.getenv('TAVILY_API_KEY')\n",
    "GROQ_API_KEY = os.getenv('GROQ_API_KEY')"
   ]
  },
  {
   "cell_type": "code",
   "execution_count": 4,
   "metadata": {},
   "outputs": [],
   "source": [
    "from langchain_openai import ChatOpenAI"
   ]
  },
  {
   "cell_type": "code",
   "execution_count": 5,
   "metadata": {},
   "outputs": [],
   "source": [
    "llm = ChatOpenAI(model=\"gpt-3.5-turbo-0125\")"
   ]
  },
  {
   "cell_type": "code",
   "execution_count": 6,
   "metadata": {},
   "outputs": [],
   "source": [
    "from langchain_community.tools.tavily_search import TavilySearchResults"
   ]
  },
  {
   "cell_type": "code",
   "execution_count": 13,
   "metadata": {},
   "outputs": [],
   "source": [
    "search = TavilySearchResults(max_results=3)\n"
   ]
  },
  {
   "cell_type": "code",
   "execution_count": 14,
   "metadata": {},
   "outputs": [
    {
     "data": {
      "text/plain": [
       "[{'url': 'https://en.wikipedia.org/wiki/2025_FIFA_Club_World_Cup',\n",
       "  'content': 'The 2025 FIFA Club World Cup, also marketed as FIFA Club World Cup 25,[1][2] is the planned 21st edition of the FIFA Club World Cup, an international club soccer competition organized by FIFA. The tournament is scheduled to be played in the United States from June 14 to July 13, 2025. It is planned to be the first under an expanded format with 32 teams,[3] including the winners of the four previous continental championships.[4] [...] On June 23, 2023, FIFA confirmed that the United States would host the 2025 tournament as a prelude to the 2026 FIFA World Cup.[15] The host cities for the tournament remained undecided.[16] The 32 teams will be divided into eight groups of four teams with the top two teams in each group qualifying to the knockout stage.[17] The format will be the same of that used in the FIFA World Cup between 1998 and 2022, with the exception of a third-place play-off.[18] [...] On December 17, 2023, FIFA announced the tournament would take place from June 15 to July 13, 2025.[18] Prior to the draw, only the date and venue of the opening match (involving Inter Miami CF) and final was confirmed, along with the venue for the group stage matches of Seattle Sounders FC. The full match schedule with venues and kick-off times was finalized and published on December 7, 2024, following the draw.[42] The start date of the tournament was altered, with the tournament beginning'},\n",
       " {'url': 'https://www.bankofamericastadium.com/FIFAClubWorldCupAnnouncement.html',\n",
       "  'content': '\"The FIFA Club World Cup 2025 will feature 12 fantastic stadiums where a new chapter in football\\'s global history will be written by great players from the 32 best clubs in the world,\" Mr Infantino continued. \"This new FIFA competition is the only true example in worldwide club football of real solidarity and inclusivity, allowing the best clubs from Africa, Asia, Central and North America and Oceania to play the powerhouses of Europe and South America in an incredible new World Cup which will [...] FIFA has confirmed the 12 stadiums in the United States that will stage matches at the new FIFA Club World Cup 2025â\\x84¢ when the 32 best clubs in the world play for the only official title of FIFA Club World Champions.\\n\\nThe tournament kicks off on Sunday, 15 June 2025, with all roads leading to the MetLife Stadium in New York New Jersey on Sunday, 13 July 2025 where the FIFA Club World Cup 2025â\\x84¢ will be played, just over a year before the venue stages the FIFA World Cup 26â\\x84¢ final. [...] With the draw set for December, just two of the 32 teams are yet to be confirmed: one from South America, the other representing the host country. Further information regarding the draw, which will see the 32 best clubs in the world divided into eight exciting groups of four, will be released in due course. The tournament match schedule will be published shortly after the draw.\\n\\nFans can visit FIFA.com/tickets to register for FIFA Club World Cup 2025 ticket and hospitality information.'},\n",
       " {'url': 'https://www.mancity.com/news/mens/fifa-club-world-cup-2025-explainer-63854648',\n",
       "  'content': 'The 2025 FIFA Club World Cup will take place from 14 June to 13 July 2025. This means it falls between the 2024/25 and 2025/26'}]"
      ]
     },
     "execution_count": 14,
     "metadata": {},
     "output_type": "execute_result"
    }
   ],
   "source": [
    "search.invoke(\"tell me about 2025 Worldcup\")"
   ]
  },
  {
   "cell_type": "code",
   "execution_count": 15,
   "metadata": {},
   "outputs": [],
   "source": [
    "tools = [search]"
   ]
  },
  {
   "cell_type": "code",
   "execution_count": 16,
   "metadata": {},
   "outputs": [
    {
     "data": {
      "text/plain": [
       "[TavilySearchResults(max_results=3)]"
      ]
     },
     "execution_count": 16,
     "metadata": {},
     "output_type": "execute_result"
    }
   ],
   "source": [
    "tools  "
   ]
  },
  {
   "cell_type": "code",
   "execution_count": 17,
   "metadata": {},
   "outputs": [],
   "source": [
    "from langgraph.prebuilt import create_react_agent\n",
    "\n",
    "agent = create_react_agent(llm, tools)"
   ]
  },
  {
   "cell_type": "code",
   "execution_count": 19,
   "metadata": {},
   "outputs": [
    {
     "data": {
      "text/plain": [
       "{'messages': [HumanMessage(content='tell me about 2025 Worldcup', id='9c86556d-b88b-4e2f-ac12-2dfe0d9cb061'),\n",
       "  AIMessage(content='', additional_kwargs={'tool_calls': [{'id': 'call_XeOgqfz0SIrpQ61ZwJZdsnlk', 'function': {'arguments': '{\"query\":\"2025 World Cup\"}', 'name': 'tavily_search_results_json'}, 'type': 'function'}]}, response_metadata={'token_usage': {'completion_tokens': 22, 'prompt_tokens': 89, 'total_tokens': 111, 'completion_tokens_details': {'accepted_prediction_tokens': 0, 'audio_tokens': 0, 'reasoning_tokens': 0, 'rejected_prediction_tokens': 0}, 'prompt_tokens_details': {'audio_tokens': 0, 'cached_tokens': 0}}, 'model_name': 'gpt-3.5-turbo-0125', 'system_fingerprint': None, 'finish_reason': 'tool_calls', 'logprobs': None}, id='run-e208071e-51b8-4470-a7ce-864fa6f6e7c0-0', tool_calls=[{'name': 'tavily_search_results_json', 'args': {'query': '2025 World Cup'}, 'id': 'call_XeOgqfz0SIrpQ61ZwJZdsnlk', 'type': 'tool_call'}], usage_metadata={'input_tokens': 89, 'output_tokens': 22, 'total_tokens': 111}),\n",
       "  ToolMessage(content='[{\"url\": \"https://en.wikipedia.org/wiki/2025_FIFA_Club_World_Cup\", \"content\": \"The 2025 FIFA Club World Cup, also marketed as FIFA Club World Cup 25,[1][2] is the planned 21st edition of the FIFA Club World Cup, an international club soccer competition organized by FIFA. The tournament is scheduled to be played in the United States from June 14 to July 13, 2025. It is planned to be the first under an expanded format with 32 teams,[3] including the winners of the four previous continental championships.[4] [...] On June 23, 2023, FIFA confirmed that the United States would host the 2025 tournament as a prelude to the 2026 FIFA World Cup.[15] The host cities for the tournament remained undecided.[16] The 32 teams will be divided into eight groups of four teams with the top two teams in each group qualifying to the knockout stage.[17] The format will be the same of that used in the FIFA World Cup between 1998 and 2022, with the exception of a third-place play-off.[18] [...] On December 17, 2023, FIFA announced the tournament would take place from June 15 to July 13, 2025.[18] Prior to the draw, only the date and venue of the opening match (involving Inter Miami CF) and final was confirmed, along with the venue for the group stage matches of Seattle Sounders FC. The full match schedule with venues and kick-off times was finalized and published on December 7, 2024, following the draw.[42] The start date of the tournament was altered, with the tournament beginning\"}, {\"url\": \"https://www.lumenfield.com/fifa-world-cup/2025-fifa-world-club-cup-seattle\", \"content\": \"Lumen Field has been selected as a host venue for the FIFA Club World Cup 2025.This is a new tournament that will be played for the first time in 2025 including 32 of the most successful club sides from each of the six international confederations: AFC, CAF, Concacaf, CONMEBOL, OFC and UEFA. FIFA\\'s new prime club competition - the FIFA Club World Cup 2025â\\x84¢ - will grace the world stage in June and July 2025.â\\x80\\x8dHere, FIFA brings you everything you need to know on the tournament. For more [...] The tournament consists of a 63-game match schedule , a set of fixtures for the 32 club teams that will aim to become the first ever champions of world footballâ\\x80\\x99s inaugural elite club competition.Lumen Field will host six matches, featuring Seattle Sounders FC, AtlÃ©tico de Madrid, Paris Saint-Germain, Botafogo, CAÂ\\xa0River Plate, Urawa Reds, and FCÂ\\xa0Internazionale.Tickets are on sale now via FIFA.com/tickets\\\\n\\\\n\\\\n\\\\nVolunteer for the FIFA Club World Cup 2025 today! [...] FIFA club World Cup 2025â\\x84¢ AT LUMEN FIELD\\\\n\\\\nBuilt For The World Stage\"}, {\"url\": \"https://help.ticketmaster.com/hc/en-us/articles/31002635271953-FIFA-Club-World-Cup-2025\", \"content\": \"General Event Information\\\\n\\\\nThe FIFA Club World Cup 2025™ will take place in the United States from 14 June to 13 July 2025, with 32 of the globe’s leading teams competing in the inaugural edition of the tournament.\\\\n\\\\nThe FIFA Club World Cup 2025™ will be played across 12 venues in the U.S. The opening match of the FIFA Club World Cup 2025™ will be played at Hard Rock Stadium in Miami, Florida on Saturday, 14 June 2025. [...] The final will be at MetLife Stadium in East Rutherford, New Jersey/New York on Sunday, 13 July 2025.\\\\n\\\\nThe 32 teams participating in the FIFA Club World Cup 2025™ from each of the six international confederations—AFC, CAF, Concacaf, CONMEBOL, OFC and UEFA—are: [...] English (US)\\\\n\\\\nEnglish (US)\\\\n\\\\nFIFA Club World Cup 2025™\\\\n\\\\n\\\\n\\\\nFIFA has announced the sale dates for the knockout stage of FIFA Club World Cup 2025™.\\xa0 You can view a list of the venues, locations and dates by clicking Ticketmaster Event Chart below. This chart’s information may change, so please check the Ticketmaster FIFA Club World Cup page for the most up-to-date information.\\\\n\\\\nYou can find the latest tournament updates and ticket information by visiting FIFA.com.\\\\n\\\\nTicketmaster Event Chart\"}]', name='tavily_search_results_json', id='90eff9cb-d3a9-4178-8f94-24c046cc7873', tool_call_id='call_XeOgqfz0SIrpQ61ZwJZdsnlk'),\n",
       "  AIMessage(content='The 2025 FIFA Club World Cup is the planned 21st edition of the FIFA Club World Cup, an international club soccer competition organized by FIFA. The tournament is scheduled to be played in the United States from June 14 to July 13, 2025. It will be the first under an expanded format with 32 teams, including the winners of the four previous continental championships. The host cities for the tournament are yet to be decided.\\n\\nThe 32 teams will be divided into eight groups of four teams, with the top two teams in each group qualifying for the knockout stage. The format will be similar to that used in the FIFA World Cup between 1998 and 2022, with the exception of a third-place play-off.\\n\\nLumen Field has been selected as a host venue for the FIFA Club World Cup 2025. The tournament will feature 63 matches, with 32 club teams competing to become the first champions of this elite club competition. Lumen Field will host six matches, featuring teams like Seattle Sounders FC, Atlético de Madrid, Paris Saint-Germain, Botafogo, CA River Plate, Urawa Reds, and FC Internazionale.\\n\\nFor more information, you can visit the following sources:\\n1. [Wikipedia - 2025 FIFA Club World Cup](https://en.wikipedia.org/wiki/2025_FIFA_Club_World_Cup)\\n2. [Lumen Field - FIFA Club World Cup 2025](https://www.lumenfield.com/fifa-world-cup/2025-fifa-world-club-cup-seattle)\\n3. [Ticketmaster - FIFA Club World Cup 2025](https://help.ticketmaster.com/hc/en-us/articles/31002635271953-FIFA-Club-World-Cup-2025)', response_metadata={'token_usage': {'completion_tokens': 370, 'prompt_tokens': 1123, 'total_tokens': 1493, 'completion_tokens_details': {'accepted_prediction_tokens': 0, 'audio_tokens': 0, 'reasoning_tokens': 0, 'rejected_prediction_tokens': 0}, 'prompt_tokens_details': {'audio_tokens': 0, 'cached_tokens': 0}}, 'model_name': 'gpt-3.5-turbo-0125', 'system_fingerprint': None, 'finish_reason': 'stop', 'logprobs': None}, id='run-d3e65135-5627-4b2c-a134-14971279fae0-0', usage_metadata={'input_tokens': 1123, 'output_tokens': 370, 'total_tokens': 1493})]}"
      ]
     },
     "execution_count": 19,
     "metadata": {},
     "output_type": "execute_result"
    }
   ],
   "source": [
    "from langchain_core.messages import HumanMessage\n",
    "response = agent.invoke({'messages':[HumanMessage(content=\"tell me about 2025 Worldcup\")]})\n",
    "response"
   ]
  },
  {
   "cell_type": "code",
   "execution_count": 20,
   "metadata": {},
   "outputs": [
    {
     "data": {
      "text/plain": [
       "[HumanMessage(content='tell me about 2025 Worldcup', id='9c86556d-b88b-4e2f-ac12-2dfe0d9cb061'),\n",
       " AIMessage(content='', additional_kwargs={'tool_calls': [{'id': 'call_XeOgqfz0SIrpQ61ZwJZdsnlk', 'function': {'arguments': '{\"query\":\"2025 World Cup\"}', 'name': 'tavily_search_results_json'}, 'type': 'function'}]}, response_metadata={'token_usage': {'completion_tokens': 22, 'prompt_tokens': 89, 'total_tokens': 111, 'completion_tokens_details': {'accepted_prediction_tokens': 0, 'audio_tokens': 0, 'reasoning_tokens': 0, 'rejected_prediction_tokens': 0}, 'prompt_tokens_details': {'audio_tokens': 0, 'cached_tokens': 0}}, 'model_name': 'gpt-3.5-turbo-0125', 'system_fingerprint': None, 'finish_reason': 'tool_calls', 'logprobs': None}, id='run-e208071e-51b8-4470-a7ce-864fa6f6e7c0-0', tool_calls=[{'name': 'tavily_search_results_json', 'args': {'query': '2025 World Cup'}, 'id': 'call_XeOgqfz0SIrpQ61ZwJZdsnlk', 'type': 'tool_call'}], usage_metadata={'input_tokens': 89, 'output_tokens': 22, 'total_tokens': 111}),\n",
       " ToolMessage(content='[{\"url\": \"https://en.wikipedia.org/wiki/2025_FIFA_Club_World_Cup\", \"content\": \"The 2025 FIFA Club World Cup, also marketed as FIFA Club World Cup 25,[1][2] is the planned 21st edition of the FIFA Club World Cup, an international club soccer competition organized by FIFA. The tournament is scheduled to be played in the United States from June 14 to July 13, 2025. It is planned to be the first under an expanded format with 32 teams,[3] including the winners of the four previous continental championships.[4] [...] On June 23, 2023, FIFA confirmed that the United States would host the 2025 tournament as a prelude to the 2026 FIFA World Cup.[15] The host cities for the tournament remained undecided.[16] The 32 teams will be divided into eight groups of four teams with the top two teams in each group qualifying to the knockout stage.[17] The format will be the same of that used in the FIFA World Cup between 1998 and 2022, with the exception of a third-place play-off.[18] [...] On December 17, 2023, FIFA announced the tournament would take place from June 15 to July 13, 2025.[18] Prior to the draw, only the date and venue of the opening match (involving Inter Miami CF) and final was confirmed, along with the venue for the group stage matches of Seattle Sounders FC. The full match schedule with venues and kick-off times was finalized and published on December 7, 2024, following the draw.[42] The start date of the tournament was altered, with the tournament beginning\"}, {\"url\": \"https://www.lumenfield.com/fifa-world-cup/2025-fifa-world-club-cup-seattle\", \"content\": \"Lumen Field has been selected as a host venue for the FIFA Club World Cup 2025.This is a new tournament that will be played for the first time in 2025 including 32 of the most successful club sides from each of the six international confederations: AFC, CAF, Concacaf, CONMEBOL, OFC and UEFA. FIFA\\'s new prime club competition - the FIFA Club World Cup 2025â\\x84¢ - will grace the world stage in June and July 2025.â\\x80\\x8dHere, FIFA brings you everything you need to know on the tournament. For more [...] The tournament consists of a 63-game match schedule , a set of fixtures for the 32 club teams that will aim to become the first ever champions of world footballâ\\x80\\x99s inaugural elite club competition.Lumen Field will host six matches, featuring Seattle Sounders FC, AtlÃ©tico de Madrid, Paris Saint-Germain, Botafogo, CAÂ\\xa0River Plate, Urawa Reds, and FCÂ\\xa0Internazionale.Tickets are on sale now via FIFA.com/tickets\\\\n\\\\n\\\\n\\\\nVolunteer for the FIFA Club World Cup 2025 today! [...] FIFA club World Cup 2025â\\x84¢ AT LUMEN FIELD\\\\n\\\\nBuilt For The World Stage\"}, {\"url\": \"https://help.ticketmaster.com/hc/en-us/articles/31002635271953-FIFA-Club-World-Cup-2025\", \"content\": \"General Event Information\\\\n\\\\nThe FIFA Club World Cup 2025™ will take place in the United States from 14 June to 13 July 2025, with 32 of the globe’s leading teams competing in the inaugural edition of the tournament.\\\\n\\\\nThe FIFA Club World Cup 2025™ will be played across 12 venues in the U.S. The opening match of the FIFA Club World Cup 2025™ will be played at Hard Rock Stadium in Miami, Florida on Saturday, 14 June 2025. [...] The final will be at MetLife Stadium in East Rutherford, New Jersey/New York on Sunday, 13 July 2025.\\\\n\\\\nThe 32 teams participating in the FIFA Club World Cup 2025™ from each of the six international confederations—AFC, CAF, Concacaf, CONMEBOL, OFC and UEFA—are: [...] English (US)\\\\n\\\\nEnglish (US)\\\\n\\\\nFIFA Club World Cup 2025™\\\\n\\\\n\\\\n\\\\nFIFA has announced the sale dates for the knockout stage of FIFA Club World Cup 2025™.\\xa0 You can view a list of the venues, locations and dates by clicking Ticketmaster Event Chart below. This chart’s information may change, so please check the Ticketmaster FIFA Club World Cup page for the most up-to-date information.\\\\n\\\\nYou can find the latest tournament updates and ticket information by visiting FIFA.com.\\\\n\\\\nTicketmaster Event Chart\"}]', name='tavily_search_results_json', id='90eff9cb-d3a9-4178-8f94-24c046cc7873', tool_call_id='call_XeOgqfz0SIrpQ61ZwJZdsnlk'),\n",
       " AIMessage(content='The 2025 FIFA Club World Cup is the planned 21st edition of the FIFA Club World Cup, an international club soccer competition organized by FIFA. The tournament is scheduled to be played in the United States from June 14 to July 13, 2025. It will be the first under an expanded format with 32 teams, including the winners of the four previous continental championships. The host cities for the tournament are yet to be decided.\\n\\nThe 32 teams will be divided into eight groups of four teams, with the top two teams in each group qualifying for the knockout stage. The format will be similar to that used in the FIFA World Cup between 1998 and 2022, with the exception of a third-place play-off.\\n\\nLumen Field has been selected as a host venue for the FIFA Club World Cup 2025. The tournament will feature 63 matches, with 32 club teams competing to become the first champions of this elite club competition. Lumen Field will host six matches, featuring teams like Seattle Sounders FC, Atlético de Madrid, Paris Saint-Germain, Botafogo, CA River Plate, Urawa Reds, and FC Internazionale.\\n\\nFor more information, you can visit the following sources:\\n1. [Wikipedia - 2025 FIFA Club World Cup](https://en.wikipedia.org/wiki/2025_FIFA_Club_World_Cup)\\n2. [Lumen Field - FIFA Club World Cup 2025](https://www.lumenfield.com/fifa-world-cup/2025-fifa-world-club-cup-seattle)\\n3. [Ticketmaster - FIFA Club World Cup 2025](https://help.ticketmaster.com/hc/en-us/articles/31002635271953-FIFA-Club-World-Cup-2025)', response_metadata={'token_usage': {'completion_tokens': 370, 'prompt_tokens': 1123, 'total_tokens': 1493, 'completion_tokens_details': {'accepted_prediction_tokens': 0, 'audio_tokens': 0, 'reasoning_tokens': 0, 'rejected_prediction_tokens': 0}, 'prompt_tokens_details': {'audio_tokens': 0, 'cached_tokens': 0}}, 'model_name': 'gpt-3.5-turbo-0125', 'system_fingerprint': None, 'finish_reason': 'stop', 'logprobs': None}, id='run-d3e65135-5627-4b2c-a134-14971279fae0-0', usage_metadata={'input_tokens': 1123, 'output_tokens': 370, 'total_tokens': 1493})]"
      ]
     },
     "execution_count": 20,
     "metadata": {},
     "output_type": "execute_result"
    }
   ],
   "source": [
    "response['messages']"
   ]
  },
  {
   "cell_type": "markdown",
   "metadata": {},
   "source": [
    "## Adding Memory"
   ]
  },
  {
   "cell_type": "code",
   "execution_count": 22,
   "metadata": {},
   "outputs": [],
   "source": [
    "from langgraph.checkpoint.memory import MemorySaver"
   ]
  },
  {
   "cell_type": "code",
   "execution_count": 23,
   "metadata": {},
   "outputs": [],
   "source": [
    "memory = MemorySaver()"
   ]
  },
  {
   "cell_type": "code",
   "execution_count": 24,
   "metadata": {},
   "outputs": [],
   "source": [
    "agent = create_react_agent(llm,tools,checkpointer=memory)"
   ]
  },
  {
   "cell_type": "code",
   "execution_count": 25,
   "metadata": {},
   "outputs": [],
   "source": [
    "config = {\"configurable\":{\"thread_id\":\"001\"}}"
   ]
  },
  {
   "cell_type": "code",
   "execution_count": 26,
   "metadata": {},
   "outputs": [
    {
     "name": "stdout",
     "output_type": "stream",
     "text": [
      "{'agent': {'messages': [AIMessage(content='', additional_kwargs={'tool_calls': [{'id': 'call_EKNhfR4z6XX0naLrwwtIuytc', 'function': {'arguments': '{\"query\":\"2025 Mahakumbha\"}', 'name': 'tavily_search_results_json'}, 'type': 'function'}]}, response_metadata={'token_usage': {'completion_tokens': 24, 'prompt_tokens': 91, 'total_tokens': 115, 'completion_tokens_details': {'accepted_prediction_tokens': 0, 'audio_tokens': 0, 'reasoning_tokens': 0, 'rejected_prediction_tokens': 0}, 'prompt_tokens_details': {'audio_tokens': 0, 'cached_tokens': 0}}, 'model_name': 'gpt-3.5-turbo-0125', 'system_fingerprint': None, 'finish_reason': 'tool_calls', 'logprobs': None}, id='run-e275c3c3-0e6d-4e62-a0cc-79ca914bdb49-0', tool_calls=[{'name': 'tavily_search_results_json', 'args': {'query': '2025 Mahakumbha'}, 'id': 'call_EKNhfR4z6XX0naLrwwtIuytc', 'type': 'tool_call'}], usage_metadata={'input_tokens': 91, 'output_tokens': 24, 'total_tokens': 115})]}}\n",
      "---\n",
      "{'tools': {'messages': [ToolMessage(content='[{\"url\": \"https://www.walkingthehimalayas.com/post/mahakumbh-2025\", \"content\": \"Mahakumbh, the world\\'s largest religious gathering, is set to return in 2025, promising an unparalleled convergence of faith, tradition, and culture. This event, which takes place every twelve years, holds immense significance for millions of Hindus worldwide. In 2025, the Mahakumbh will be hosted in Prayagraj, Uttar Pradesh, at the sacred confluence of the Ganga, Yamuna, and the mystical\"}, {\"url\": \"https://en.wikipedia.org/wiki/2025_Prayag_Maha_Kumbh_Mela\", \"content\": \"Since the Kumbh Mela has been organized for ages and its commencement date is unknown, calculating the exact 144-year cycle is not certain. However, as per astronomical calculations, the 2025 Mahakumbh Mela is unique in itself since its constellation alignment is witnessed once every 144 years.Thus, the most auspicious of all the Maha Kumbh in the past 144 years is in 2025.[2][3][4][5] [...] Hindu Culture & Society\\\\nOther topics\\\\nGlossaryOutline\\\\n Hinduism portal\\\\nvte\\\\nThe 2025 Prayag Maha Kumbh Mela, also referred to as the 2025 Prayag Kumbh Mela, is the ongoing iteration of the Kumbh Mela. It is the world’s largest religious gathering, scheduled to take place from 13 January to 26 February 2025, at the Triveni Sangam in Prayagraj, Uttar Pradesh, India. This event marks the completion of a 12-Kumbh Mela cycle and is officially termed a Maha Kumbh Mela, spanning 45 days.[1] [...] ^ \\\\\"Rs 2 lakh crore revenue, GDP boost: The \\'Maha\\' impact of Maha Kumbh 2025\\\\\". Moneycontrol. 13 January 2025. Archived from the original on 21 January 2025. Retrieved 22 January 2025.\\\\n^ \\\\\"Maha Kumbh 2025 to have \\'fire bikes\\', offroaders as quick response vehicles | VIDEO\\\\\". English.Mathrubhumi. 17 November 2024. Retrieved 18 November 2024.\\\\n^ \\\\\"Mahakumbh:Fire safety measures to exceed Kumbh 2019 standards with doubled resources\\\\\". Hindustan Times. 16 November 2024. Retrieved 19 November 2024.\"}, {\"url\": \"https://mahakumbh.in/kumbh-mela-2025-dates-place-events-and-guide/\", \"content\": \"The Maha Kumbh Mela 2025 will be held in the sacred city of Prayagraj (formerly Allahabad), Uttar Pradesh, at the Triveni Sangam, where the rivers Ganga, Yamuna, and the mythical Saraswati meet. This confluence is believed to hold immense spiritual power, drawing millions of pilgrims who seek to cleanse their souls through ritual bathing. [...] The Kumbh Mela is more than a religious gathering; it is a celebration of India’s vast cultural diversity and unity. The 2025 Maha Kumbh in Prayagraj serves as a platform where millions of people from different parts of India, and the world, come together, transcending social, economic, and geographic barriers. The festival embodies the spirit of togetherness, showcasing how deeply intertwined faith, culture, and heritage are in Indian society.\\\\n1. A Symbol of Unity [...] The Kumbh Mela is not just a festival—it’s a monumental gathering of spirituality, faith, and cultural unity. In 2025, millions of devotees from around the world will converge at Prayagraj, Uttar Pradesh, to partake in the Maha Kumbh Mela, one of the most significant religious events in Hinduism. This sacred event occurs every 12 years and is rooted in the ancient mythology of the Samudra Manthan—a cosmic battle between the gods and demons over the nectar of immortality.\"}]', name='tavily_search_results_json', tool_call_id='call_EKNhfR4z6XX0naLrwwtIuytc')]}}\n",
      "---\n",
      "{'agent': {'messages': [AIMessage(content=\"The 2025 Mahakumbha, also known as the 2025 Prayag Maha Kumbh Mela, is a significant religious gathering scheduled to take place from 13 January to 26 February 2025 at the Triveni Sangam in Prayagraj, Uttar Pradesh, India. This event marks the completion of a 12-Kumbh Mela cycle and is officially termed a Maha Kumbh Mela, spanning 45 days.\\n\\nThe Mahakumbh is the world's largest religious gathering, drawing millions of Hindus from around the world. It holds immense significance in Hindu culture and tradition. The 2025 Mahakumbha will be hosted in Prayagraj, where the sacred confluence of the Ganga, Yamuna, and the mystical Saraswati rivers takes place. This confluence is believed to hold immense spiritual power.\\n\\nThe event is not just a religious gathering but also a celebration of India's cultural diversity and unity. It serves as a platform where people from different parts of India and the world come together, transcending social, economic, and geographic barriers. The Mahakumbha embodies the spirit of togetherness, showcasing the deep intertwining of faith, culture, and heritage in Indian society.\\n\\nFor more information, you can visit the following sources:\\n1. [Walking the Himalayas - Mahakumbh 2025](https://www.walkingthehimalayas.com/post/mahakumbh-2025)\\n2. [Wikipedia - 2025 Prayag Maha Kumbh Mela](https://en.wikipedia.org/wiki/2025_Prayag_Maha_Kumbh_Mela)\\n3. [Mahakumbh.in - Kumbh Mela 2025](https://mahakumbh.in/kumbh-mela-2025-dates-place-events-and-guide/)\", response_metadata={'token_usage': {'completion_tokens': 388, 'prompt_tokens': 999, 'total_tokens': 1387, 'completion_tokens_details': {'accepted_prediction_tokens': 0, 'audio_tokens': 0, 'reasoning_tokens': 0, 'rejected_prediction_tokens': 0}, 'prompt_tokens_details': {'audio_tokens': 0, 'cached_tokens': 0}}, 'model_name': 'gpt-3.5-turbo-0125', 'system_fingerprint': None, 'finish_reason': 'stop', 'logprobs': None}, id='run-c7fc35a9-9c2f-4088-984e-9729b295f9dc-0', usage_metadata={'input_tokens': 999, 'output_tokens': 388, 'total_tokens': 1387})]}}\n",
      "---\n"
     ]
    }
   ],
   "source": [
    "for chunk in agent.stream(\n",
    "    {'messages': [HumanMessage(content=\"Tell me about 2025 Mahakumbha\")]},\n",
    "    config=config\n",
    "):\n",
    "    print(chunk)\n",
    "    print('---')"
   ]
  },
  {
   "cell_type": "code",
   "execution_count": null,
   "metadata": {},
   "outputs": [],
   "source": []
  }
 ],
 "metadata": {
  "kernelspec": {
   "display_name": "Python 3",
   "language": "python",
   "name": "python3"
  },
  "language_info": {
   "codemirror_mode": {
    "name": "ipython",
    "version": 3
   },
   "file_extension": ".py",
   "mimetype": "text/x-python",
   "name": "python",
   "nbconvert_exporter": "python",
   "pygments_lexer": "ipython3",
   "version": "3.11.8"
  }
 },
 "nbformat": 4,
 "nbformat_minor": 2
}
